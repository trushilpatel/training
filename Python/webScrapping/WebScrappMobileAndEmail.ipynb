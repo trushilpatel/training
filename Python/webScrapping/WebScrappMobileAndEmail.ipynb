{
 "cells": [
  {
   "cell_type": "markdown",
   "metadata": {},
   "source": [
    "# Import Required Libraries"
   ]
  },
  {
   "cell_type": "code",
   "execution_count": 22,
   "metadata": {},
   "outputs": [],
   "source": [
    "import bs4,lxml,requests\n",
    "import re\n",
    "# pip install google\n",
    "from googlesearch import search \n",
    "from xlwt import Workbook \n",
    "punctuations = '!\"#$%&\\'()*,/:;<=>?[\\\\]^_`{|}~'"
   ]
  },
  {
   "cell_type": "markdown",
   "metadata": {},
   "source": [
    "# Get Website URL and Number of pages to Scrape"
   ]
  },
  {
   "cell_type": "code",
   "execution_count": 6,
   "metadata": {},
   "outputs": [
    {
     "name": "stdout",
     "output_type": "stream",
     "text": [
      "Enter URL : https://argusoft.com/\n",
      "Number Of Webpage To Scrape : 1\n",
      "1\n"
     ]
    }
   ],
   "source": [
    "url = input(\"Enter URL : \").strip()\n",
    "\n",
    "if url == '':\n",
    "    print(\"Please Enter Valide URL\")\n",
    "    \n",
    "numberOfWebpageToScrape = input(\"Number Of Webpage To Scrape : \")\n",
    "if numberOfWebpageToScrape.isdigit():\n",
    "    numberOfWebpageToScrape = int(numberOfWebpageToScrape)\n",
    "else:\n",
    "    numberOfWebpageToScrape = 1\n",
    "print(numberOfWebpageToScrape)"
   ]
  },
  {
   "cell_type": "markdown",
   "metadata": {},
   "source": [
    "# Invalide Resources Extensions"
   ]
  },
  {
   "cell_type": "code",
   "execution_count": 7,
   "metadata": {},
   "outputs": [
    {
     "name": "stdout",
     "output_type": "stream",
     "text": [
      "invalidResourceExtensions :\n",
      "['.webm', '.jpeg', '.jpg', '.png', '.gif', '.tiff', '.psd', '.pdf', '.eps', '.ai', '.indd', '.raw', '.pdf', '.epub', '.7z', '.rar', '.zip', '.tar', '.ogg', '.mp4', '.m4p', '.m4v', '.avi', '.wmv', '.mov', '.qt', '.flv', '.swf', '.json', '.svg', '.css', '.js']\n"
     ]
    }
   ],
   "source": [
    "invalidResourceExtensions = [\".WEBM\",\".JPEG\",\".JPG\", \".PNG\", \".GIF\", \".TIFF\", \".PSD\",\".PDF\",\".EPS\", \n",
    "    \".AI\",\".INDD\",\".RAW\", \".pdf\",\".epub\",\".7z\",\".rar\",\".zip\",\".tar\",\".OGG\",\".MP4\",\".M4P\", \".M4V\",\n",
    "    \".AVI\", \".WMV\", \".MOV\", \".QT\", \".FLV\", \".SWF\", \".json\", \".svg\", \".css\", \".js\"\n",
    "]\n",
    "\n",
    "for ire in range(len(invalidResourceExtensions)):\n",
    "    invalidResourceExtensions[ire] = invalidResourceExtensions[ire].lower()\n",
    "print(\"invalidResourceExtensions :\")\n",
    "print(invalidResourceExtensions)"
   ]
  },
  {
   "cell_type": "markdown",
   "metadata": {},
   "source": [
    "# Punctuation remover"
   ]
  },
  {
   "cell_type": "code",
   "execution_count": 8,
   "metadata": {},
   "outputs": [],
   "source": [
    "# punctuations are removed for better searching\n",
    "def removePunctuation(wordsList): \n",
    "    for word in range(len(wordsList)):\n",
    "        for char in wordsList[word]:\n",
    "            if char in punctuations:\n",
    "                 wordsList[word] = wordsList[word].replace(char, '')\n",
    "    return wordsList "
   ]
  },
  {
   "cell_type": "markdown",
   "metadata": {},
   "source": [
    "# Find Emails from webpages"
   ]
  },
  {
   "cell_type": "code",
   "execution_count": 9,
   "metadata": {},
   "outputs": [],
   "source": [
    "emailRegexPattern = \"^([a-zA-Z0-9_\\-\\.]+)@([a-zA-Z0-9_\\-\\.]+)\\.([a-zA-Z]{2,5})$\"\n",
    "emailRegex = re.compile(emailRegexPattern)\n",
    "\n",
    "# find Email\n",
    "def findEmails(wordsList):\n",
    "    # Valid email list\n",
    "    emails = list()\n",
    "    \n",
    "    for word in wordsList:\n",
    "        # checking for string and handles error created by other types\n",
    "        if type(word) is str and '@' in word:\n",
    "            if emailRegex.match(word):\n",
    "                emails.append(word)\n",
    "    return emails"
   ]
  },
  {
   "cell_type": "markdown",
   "metadata": {},
   "source": [
    "# Find Mobiles Number from webpages"
   ]
  },
  {
   "cell_type": "code",
   "execution_count": 10,
   "metadata": {},
   "outputs": [],
   "source": [
    "# mobile Regex configurations\n",
    "mobileRegexPatter = \"\"\"^([+]?[0-9]+)?( ?[0-9]+)?(-?[0-9]+)*$\"\"\"\n",
    "mobileRegex = re.compile(mobileRegexPatter)\n",
    "\n",
    "# Find Mobile Number\n",
    "def findMobileNumber(words):\n",
    "    mobileNumber = list()\n",
    "    \n",
    "    for word in words:\n",
    "        # We already sorted the list \n",
    "        # so first encounter of alpha will terminate the loop\n",
    "        if word[0].isalpha():\n",
    "            return mobileNumber\n",
    "        else:\n",
    "            if mobileRegex.match(word) and len(word) > 5:\n",
    "                mobileNumber.append(word)\n",
    "    return mobileNumber"
   ]
  },
  {
   "cell_type": "markdown",
   "metadata": {},
   "source": [
    "# Clean Data"
   ]
  },
  {
   "cell_type": "code",
   "execution_count": 11,
   "metadata": {},
   "outputs": [],
   "source": [
    "def cleanData(beautifiedData):\n",
    "    # get all text from response\n",
    "    # remove \"\\n\" and split using space\n",
    "    words = beautifiedData.text.replace('\\n', ' ').split(' ')\n",
    "    print(\"Text Length Before removing redundant words : \", len(words))\n",
    "\n",
    "    # clean text by\n",
    "    # removing redundant words\n",
    "    cleanedWords = list(set(words))\n",
    "    print(\"Text Length After removing redundant words : \", len(cleanedWords))\n",
    "\n",
    "    # removing punctuation and redundant words\n",
    "    cleanedWords = list(set(removePunctuation(cleanedWords)))\n",
    "    print(\"Text Length After removing punctuations from words : \", len(cleanedWords))\n",
    "\n",
    "    # sort cleanedWords\n",
    "    cleanedWords.sort()\n",
    "\n",
    "    # removing empty string\n",
    "    if cleanedWords[0] == '':\n",
    "        cleanedWords.remove('')\n",
    "    return cleanedWords"
   ]
  },
  {
   "cell_type": "markdown",
   "metadata": {},
   "source": [
    "# Find All URLs from webpage"
   ]
  },
  {
   "cell_type": "code",
   "execution_count": 18,
   "metadata": {},
   "outputs": [],
   "source": [
    "def getUrlsFromWebPage(beautifiedData):\n",
    "    hrefTags = beautifiedData.select('[href]')\n",
    "    validURLs = list()\n",
    "\n",
    "    for hrefTag in hrefTags:\n",
    "        if hrefTag['href'].startswith(url):\n",
    "            for extensions in invalidResourceExtensions:\n",
    "                if hrefTag['href'].endswith(extensions):\n",
    "                    break\n",
    "            else:\n",
    "                validURLs.append(hrefTag['href'])\n",
    "    \n",
    "    print(\"Total ValidURLs : \", len(validURLs)) \n",
    "    return validURLs"
   ]
  },
  {
   "cell_type": "markdown",
   "metadata": {},
   "source": [
    "# Scrapping Webpage"
   ]
  },
  {
   "cell_type": "code",
   "execution_count": 13,
   "metadata": {},
   "outputs": [],
   "source": [
    "def scrapeWebpage(websiteURL):\n",
    "    response = requests.get(url)\n",
    "    beautifiedData = bs4.BeautifulSoup(response.text, \"lxml\")\n",
    "    return beautifiedData"
   ]
  },
  {
   "cell_type": "code",
   "execution_count": 15,
   "metadata": {},
   "outputs": [
    {
     "name": "stdout",
     "output_type": "stream",
     "text": [
      "Total ValidURLs :  0\n",
      "Text Length Before removing redundant words :  10659\n",
      "Text Length After removing redundant words :  1304\n",
      "Text Length After removing punctuations from words :  1240\n",
      "Text Length Before removing redundant words :  10659\n",
      "Text Length After removing redundant words :  1304\n",
      "Text Length After removing punctuations from words :  1240\n"
     ]
    },
    {
     "data": {
      "text/plain": [
       "{'https://argusoft.com/': {'email': ['info@argusoft.com', 'jobs@argusoft.com'],\n",
       "  'mobile': ['+1-510-435-0567', '9328573110']}}"
      ]
     },
     "execution_count": 15,
     "metadata": {},
     "output_type": "execute_result"
    }
   ],
   "source": [
    "def scrapeWebSite(websiteURL, numberOfWebpageToScrape):   \n",
    "    beautifiedData = scrapeWebpage(websiteURL)\n",
    "    data = dict()\n",
    "    validURLs = getUrlsFromWebPage(beautifiedData)[0:numberOfWebpageToScrape]\n",
    "    \n",
    "    # add websiteURL's data\n",
    "    data[websiteURL] = {\n",
    "                \"email\" : findEmails(cleanData(beautifiedData)),\n",
    "                \"mobile\" : findMobileNumber(cleanData(beautifiedData))\n",
    "        }\n",
    "    \n",
    "    for url in validURLs:\n",
    "        print(\"\\n\\nStarted Scrapping : \", url, \"\\n\")\n",
    "        tempScrappedData = scrapeWebpage(url)\n",
    "        cleanedData = cleanData(tempScrappedData)\n",
    "        data[url] = {\n",
    "                \"email\" : findEmails(cleanedData),\n",
    "                \"mobile\" : findMobileNumber(cleanedData)\n",
    "        }\n",
    "    \n",
    "    return data\n",
    "\n",
    "# scrapeWebSite(url, numberOfWebpageToScrape)"
   ]
  },
  {
   "cell_type": "markdown",
   "metadata": {},
   "source": [
    "# Create Excel File"
   ]
  },
  {
   "cell_type": "code",
   "execution_count": 40,
   "metadata": {},
   "outputs": [
    {
     "name": "stdout",
     "output_type": "stream",
     "text": [
      "1 1 info@argusoft.com\n",
      "2 1 jobs@argusoft.com\n",
      "1 1 jobs@argusoft.com\n",
      "2 1 jobs@argusoft.com\n",
      "6 1 rgopalan@argusoft.com\n",
      "6 1 rgopalan@argusoft.com\n",
      "7 1 rgopalan@argusoft.com\n",
      "8 1 rgopalan@argusoft.com\n",
      "9 1 rgopalan@argusoft.com\n",
      "10 1 rgopalan@argusoft.com\n",
      "11 1 rgopalan@argusoft.com\n",
      "12 1 rgopalan@argusoft.com\n",
      "13 1 rgopalan@argusoft.com\n",
      "14 1 rgopalan@argusoft.com\n",
      "15 1 rgopalan@argusoft.com\n"
     ]
    }
   ],
   "source": [
    "def createExcelFile(data):\n",
    "    trackURLrow = 1\n",
    "    # Workbook is created \n",
    "    wb = Workbook() \n",
    "    tempSheet = wb.add_sheet('data') \n",
    "    tempSheet.write(0,0,\"URL\")\n",
    "    tempSheet.write(0,1,\"E-mail\")\n",
    "    tempSheet.write(0,2,\"Mobile Number\")\n",
    "    \n",
    "    for url in data:\n",
    "        tempSheet.write(trackURLrow, 0, url) \n",
    "        \n",
    "        for mail in range(len(data[url]['email'])):\n",
    "            print(trackURLrow + mail, 1, data[url]['email'][mail])\n",
    "            tempSheet.write(trackURLrow + mail, 1, data[url]['email'][mail])\n",
    "        \n",
    "        for mobile in range(len(data[url]['mobile'])):\n",
    "            print(trackURLrow + mobile, 1, data[url]['email'][mail])\n",
    "            tempSheet.write(trackURLrow + mobile, 2, data[url][\"mobile\"][mobile])\n",
    "        \n",
    "        trackURLrow += max(len(data[url]['email']), len(data[url]['mobile']), 1) + 1 \n",
    "            \n",
    "\n",
    "    wb.save('xlwt example.xls') \n",
    "createExcelFile(data)"
   ]
  },
  {
   "cell_type": "code",
   "execution_count": 19,
   "metadata": {},
   "outputs": [
    {
     "name": "stdout",
     "output_type": "stream",
     "text": [
      "Enter search text : argusoft.com\n",
      "https://argusoft.com/\n",
      "Total ValidURLs :  0\n",
      "Text Length Before removing redundant words :  10659\n",
      "Text Length After removing redundant words :  1304\n",
      "Text Length After removing punctuations from words :  1240\n",
      "Text Length Before removing redundant words :  10659\n",
      "Text Length After removing redundant words :  1304\n",
      "Text Length After removing punctuations from words :  1240\n",
      "https://www.linkedin.com/company/argusoft\n",
      "Total ValidURLs :  0\n",
      "Text Length Before removing redundant words :  3\n",
      "Text Length After removing redundant words :  1\n",
      "Text Length After removing punctuations from words :  1\n",
      "Text Length Before removing redundant words :  3\n",
      "Text Length After removing redundant words :  1\n",
      "Text Length After removing punctuations from words :  1\n",
      "https://www.zaubacorp.com/company/ARGU-SOFT-INDIA-LIMITED/U74899GJ2000PLC064126\n",
      "Total ValidURLs :  3\n",
      "Text Length Before removing redundant words :  2576\n",
      "Text Length After removing redundant words :  690\n",
      "Text Length After removing punctuations from words :  665\n",
      "Text Length Before removing redundant words :  2576\n",
      "Text Length After removing redundant words :  690\n",
      "Text Length After removing punctuations from words :  665\n",
      "\n",
      "\n",
      "Started Scrapping :  https://www.zaubacorp.com/company/ARGU-SOFT-INDIA-LIMITED/U74899GJ2000PLC064126 \n",
      "\n",
      "Text Length Before removing redundant words :  2576\n",
      "Text Length After removing redundant words :  690\n",
      "Text Length After removing punctuations from words :  665\n",
      "https://www.glassdoor.co.in/Reviews/Argusoft-Reviews-E754272.htm\n",
      "Total ValidURLs :  0\n",
      "Text Length Before removing redundant words :  22\n",
      "Text Length After removing redundant words :  19\n",
      "Text Length After removing punctuations from words :  19\n",
      "Text Length Before removing redundant words :  22\n",
      "Text Length After removing redundant words :  19\n",
      "Text Length After removing punctuations from words :  19\n",
      "https://www.glassdoor.co.in/Overview/Working-at-Argusoft-EI_IE754272.11,19.htm\n",
      "Total ValidURLs :  0\n",
      "Text Length Before removing redundant words :  26\n",
      "Text Length After removing redundant words :  21\n",
      "Text Length After removing punctuations from words :  21\n",
      "Text Length Before removing redundant words :  26\n",
      "Text Length After removing redundant words :  21\n",
      "Text Length After removing punctuations from words :  21\n"
     ]
    }
   ],
   "source": [
    "query = input(\"Enter search text : \")\n",
    "data = {}\n",
    "\n",
    "for url in search(query, tld=\"co.in\", num=5, stop=5, pause=2): \n",
    "    print(url)\n",
    "    data.update(scrapeWebSite(url,numberOfWebpageToScrape))\n",
    "\n"
   ]
  },
  {
   "cell_type": "code",
   "execution_count": 20,
   "metadata": {},
   "outputs": [
    {
     "data": {
      "text/plain": [
       "{'https://argusoft.com/': {'email': ['info@argusoft.com', 'jobs@argusoft.com'],\n",
       "  'mobile': ['+1-510-435-0567', '9328573110']},\n",
       " 'https://www.linkedin.com/company/argusoft': {'email': [], 'mobile': []},\n",
       " 'https://www.zaubacorp.com/company/ARGU-SOFT-INDIA-LIMITED/U74899GJ2000PLC064126': {'email': ['rgopalan@argusoft.com'],\n",
       "  'mobile': ['00301915',\n",
       "   '00948595',\n",
       "   '01029288',\n",
       "   '1000000',\n",
       "   '17948000',\n",
       "   '2005-02-08',\n",
       "   '2016-10-19',\n",
       "   '382010',\n",
       "   '382016',\n",
       "   '90039792']},\n",
       " 'https://www.glassdoor.co.in/Reviews/Argusoft-Reviews-E754272.htm': {'email': [],\n",
       "  'mobile': []},\n",
       " 'https://www.glassdoor.co.in/Overview/Working-at-Argusoft-EI_IE754272.11,19.htm': {'email': [],\n",
       "  'mobile': []}}"
      ]
     },
     "execution_count": 20,
     "metadata": {},
     "output_type": "execute_result"
    }
   ],
   "source": [
    "print(data)"
   ]
  }
 ],
 "metadata": {
  "kernelspec": {
   "display_name": "Python 3",
   "language": "python",
   "name": "python3"
  },
  "language_info": {
   "codemirror_mode": {
    "name": "ipython",
    "version": 3
   },
   "file_extension": ".py",
   "mimetype": "text/x-python",
   "name": "python",
   "nbconvert_exporter": "python",
   "pygments_lexer": "ipython3",
   "version": "3.8.3"
  }
 },
 "nbformat": 4,
 "nbformat_minor": 4
}
